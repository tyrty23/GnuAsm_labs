{
 "cells": [
  {
   "cell_type": "code",
   "execution_count": null,
   "metadata": {},
   "outputs": [],
   "source": [
    "import matplotlib.pyplot as plt\n",
    "import numpy as np\n",
    "from collections import Counter\n",
    "import io"
   ]
  },
  {
   "cell_type": "code",
   "execution_count": null,
   "metadata": {},
   "outputs": [],
   "source": [
    "def print_most_freq_symbols(text):\n",
    "    return max(set(text), key = text.count)\n",
    "\n",
    "def print_most_freq_bytes(freqs, n):\n",
    "    freq = freqs.copy()\n",
    "    tmp = sorted(freq)\n",
    "    print(f\"{n} most common bytes:\")\n",
    "    for i in range(n):\n",
    "        index = freq.index(tmp[-1 - i])\n",
    "        percent = round(tmp[-1 - i] / sum(freqs) * 100, 2)\n",
    "        if percent > 0:\n",
    "            print(index, f\"({percent}%)\", end=\" \")\n",
    "            freq[index] = 0\n",
    "    print(\"\\n\")\n",
    "    \n",
    "    freq = freqs[:32] + [freqs[127]]\n",
    "    tmp = sorted(freq)\n",
    "    print(f\"{n} most common bytes of nonprintable ASCII table:\")\n",
    "    for i in range(n):\n",
    "        index = freq.index(tmp[-1 - i])\n",
    "        percent = round(tmp[-1 - i] / sum(freqs) * 100, 2)\n",
    "        if percent > 0:\n",
    "            print(index, f\"({percent}%)\", end=\" \")\n",
    "            freq[index] = 0\n",
    "    print()\n",
    "\n",
    "def get_byte_freqs(text):\n",
    "    freqs = [0] * 256\n",
    "    l = []\n",
    "    for i in range(len(text)):\n",
    "        freqs[text[i]] += 1\n",
    "        l.append(text[i])\n",
    "\n",
    "    return freqs\n",
    "\n",
    "def plot_freqs(freqs, bin_number, title):\n",
    "    l = []\n",
    "    for i in range(len(freqs)):\n",
    "        l += [i] * freqs[i]\n",
    "    plt.figure(figsize=(10, 6))\n",
    "    plt.xticks(np.arange(0, 256, 10))\n",
    "    plt.hist(l, edgecolor=\"white\", bins=bin_number, density=True)\n",
    "    plt.title(title)"
   ]
  },
  {
   "cell_type": "code",
   "execution_count": null,
   "metadata": {},
   "outputs": [],
   "source": [
    "template = \"Керниган, Ричи. Язык C — \"\n",
    "extentions = [\"dos\", \"iso\", \"koi8r\", \"maccyrillic\", \"utf8\", \"utf16\", \"utf32\", \"windows\"]\n",
    "\n",
    "N = 5\n",
    "\n",
    "for ext in extentions:\n",
    "    print(\"Encoding:\", ext)\n",
    "    byte_file = open(template + ext + \".txt\", \"rb\")\n",
    "    byte_text = byte_file.read()\n",
    "    byte_file.close()\n",
    "    \n",
    "    byte_freqs = get_byte_freqs(byte_text)\n",
    "    print_most_freq_bytes(byte_freqs, N)\n",
    "    plot_freqs(byte_freqs, 20, ext)\n",
    "    print(\"-\" * 50)\n",
    "    \n",
    "print(\"Most common symbols in text:\")\n",
    "file = open(template + \"utf8\" + \".txt\", \"r\")\n",
    "text = file.read()\n",
    "file.close()\n",
    "counter = Counter(text)\n",
    "[print(f\"\\\"{counter.most_common(N)[i][0]}\\\" ({round(counter.most_common(N)[i][1] / len(text) * 100, 2)}%)\", sep=\"\", end=\"   \") for i in range(N)];"
   ]
  },
  {
   "cell_type": "code",
   "execution_count": null,
   "metadata": {},
   "outputs": [],
   "source": [
    "file = open('4.txt','rb')\n",
    "text = file.read()\n",
    "file.close()\n",
    "\n",
    "freqs = get_byte_freqs(text)\n",
    "print_most_freq_bytes(freqs, N)\n",
    "plot_freqs(freqs, 20, \"4.txt\")"
   ]
  },
  {
   "cell_type": "code",
   "execution_count": null,
   "metadata": {},
   "outputs": [],
   "source": [
    "file = open('2.txt','rb')\n",
    "text = file.read()\n",
    "file.close()\n",
    "\n",
    "freqs = get_byte_freqs(text)\n",
    "print_most_freq_bytes(freqs, N)\n",
    "plot_freqs(freqs, 20, \"2.txt\")"
   ]
  },
  {
   "cell_type": "code",
   "execution_count": null,
   "metadata": {},
   "outputs": [],
   "source": [
    "file = io.open('2.txt',mode='r', encoding=\"koi8-r\")\n",
    "text = file.read()\n",
    "file.close()\n",
    "\n",
    "print(text)"
   ]
  }
 ],
 "metadata": {
  "language_info": {
   "name": "python"
  }
 },
 "nbformat": 4,
 "nbformat_minor": 2
}
